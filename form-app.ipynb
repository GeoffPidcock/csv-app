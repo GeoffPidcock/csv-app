{
 "cells": [
  {
   "cell_type": "markdown",
   "id": "b4b9a27a",
   "metadata": {},
   "source": [
    "# Explanation\n",
    "How do you accept user input in a flask application?\n",
    "\n",
    "Forms is the answer.\n",
    "\n",
    "How to implement?\n",
    "1. Have one route to display the form\n",
    "2. Have another route to handle the data after the form is submitted\n",
    "3. Have a html template containing the form tags, and with an action specifying the data handling route\n",
    "\n",
    "Let's show this, step by step. You can find the html in the templates folder."
   ]
  },
  {
   "cell_type": "code",
   "execution_count": 1,
   "id": "8387bee7",
   "metadata": {},
   "outputs": [],
   "source": [
    "# setup\n",
    "from flask import Flask, request, render_template\n",
    "\n",
    "app = Flask(__name__) # invoke the Flask class"
   ]
  },
  {
   "cell_type": "code",
   "execution_count": 2,
   "id": "e7f7fbd6",
   "metadata": {},
   "outputs": [],
   "source": [
    "# step 1 - add a route to display the form\n",
    "@app.route('/form')\n",
    "def form():\n",
    "    return render_template('form.html')"
   ]
  },
  {
   "cell_type": "code",
   "execution_count": 3,
   "id": "2566ee32",
   "metadata": {},
   "outputs": [],
   "source": [
    "# step 2 - add a route to do something with the data, and show the user the form worked correctly\n",
    "\n",
    "@app.route('/data',methods=['POST'])\n",
    "def data():\n",
    "    if request.method == 'POST':\n",
    "        form_data = request.form\n",
    "        return render_template('data.html',form_data = form_data)\n"
   ]
  },
  {
   "cell_type": "markdown",
   "id": "99366bb1",
   "metadata": {},
   "source": [
    "Step 3 - have a html file in the `templates` folder called `form.html` with code like the following:\n",
    "\n",
    "(this allows your app to collect information from the user)\n",
    "\n",
    "```html\n",
    "<form action=\"/data\" method = \"POST\">\n",
    "    <p>Name <input type = \"text\" name = \"name\" /></p>\n",
    "    <p>Greeting <input type = \"text\" name = \"greeting\" /></p>\n",
    "    <p><input type = \"submit\" value = \"Submit\" /></p>\n",
    "</form>\n",
    "```"
   ]
  },
  {
   "cell_type": "markdown",
   "id": "87752e90",
   "metadata": {},
   "source": [
    "Step 4 - have a html file in the `templates` folder called `data.html` with code like the following:\n",
    "\n",
    "(this helps confirm your app received user information)\n",
    "\n",
    "```html\n",
    "{% for key,value in form_data.items() %}\n",
    "<h2> {{key}} : {{value}}</h2>\n",
    "\n",
    "{% endfor %}\n",
    "```"
   ]
  },
  {
   "cell_type": "code",
   "execution_count": null,
   "id": "5d1ed5fe",
   "metadata": {},
   "outputs": [
    {
     "name": "stdout",
     "output_type": "stream",
     "text": [
      " * Serving Flask app '__main__'\n",
      " * Debug mode: off\n"
     ]
    },
    {
     "name": "stderr",
     "output_type": "stream",
     "text": [
      "WARNING: This is a development server. Do not use it in a production deployment. Use a production WSGI server instead.\n",
      " * Running on http://127.0.0.1:9001\n",
      "Press CTRL+C to quit\n",
      "127.0.0.1 - - [19/Apr/2024 17:11:55] \"GET / HTTP/1.1\" 404 -\n",
      "127.0.0.1 - - [19/Apr/2024 17:11:59] \"GET /form HTTP/1.1\" 200 -\n"
     ]
    }
   ],
   "source": [
    "# run the server, test, and see! url is http://127.0.0.1:9001/form\n",
    "if __name__ == '__main__':\n",
    "    app.run(port=9001) # Start the server listening for requests"
   ]
  },
  {
   "cell_type": "markdown",
   "id": "676af751",
   "metadata": {},
   "source": [
    "## Bonus!\n",
    "What if you wanted to take this information and save it to a data file?\n",
    "\n",
    "Restart the kernal, and run the following cell with an updated data path:"
   ]
  },
  {
   "cell_type": "code",
   "execution_count": 1,
   "id": "d00e4876",
   "metadata": {},
   "outputs": [
    {
     "name": "stdout",
     "output_type": "stream",
     "text": [
      " * Serving Flask app '__main__'\n",
      " * Debug mode: off\n"
     ]
    },
    {
     "name": "stderr",
     "output_type": "stream",
     "text": [
      "WARNING: This is a development server. Do not use it in a production deployment. Use a production WSGI server instead.\n",
      " * Running on http://127.0.0.1:9001\n",
      "Press CTRL+C to quit\n",
      "127.0.0.1 - - [19/Apr/2024 17:12:28] \"GET / HTTP/1.1\" 404 -\n",
      "127.0.0.1 - - [19/Apr/2024 17:12:32] \"GET /form HTTP/1.1\" 200 -\n",
      "127.0.0.1 - - [19/Apr/2024 17:12:37] \"POST /data HTTP/1.1\" 200 -\n"
     ]
    }
   ],
   "source": [
    "# setup\n",
    "from flask import Flask, request, render_template\n",
    "import csv\n",
    "\n",
    "app = Flask(__name__) # invoke the Flask class\n",
    "\n",
    "# step 1 - add a route to display the form\n",
    "@app.route('/form')\n",
    "def form():\n",
    "    return render_template('form.html')\n",
    "\n",
    "# step 2 - add a route to do something with the data, and show the user the form worked correctly\n",
    "@app.route('/data', methods=['POST'])\n",
    "def data():\n",
    "    if request.method == 'POST':\n",
    "        form_data = request.form\n",
    "        # Open the CSV file in append mode and write the form data\n",
    "        with open('data.csv', mode='a', newline='\\n') as file:\n",
    "            writer = csv.writer(file)\n",
    "            # Assuming 'name' and 'greeting' are the keys in form_data dictionary\n",
    "            writer.writerow([form_data['name'], form_data['greeting']])\n",
    "        # Redirect or show confirmation to the user\n",
    "        return render_template('data.html', form_data=form_data)\n",
    "\n",
    "# run the server, test, and see! url is http://127.0.0.1:9001/form\n",
    "if __name__ == '__main__':\n",
    "    app.run(port=9001) # Start the server listening for requests"
   ]
  },
  {
   "cell_type": "markdown",
   "id": "9f6a4671",
   "metadata": {},
   "source": [
    "## But wait, there's more!\n",
    "What if you wanted to show all the information to the user?\n",
    "\n",
    "Restart the kernal, and run the following cell with an updated data path:"
   ]
  },
  {
   "cell_type": "code",
   "execution_count": 1,
   "id": "57124ee0",
   "metadata": {},
   "outputs": [
    {
     "name": "stdout",
     "output_type": "stream",
     "text": [
      " * Serving Flask app '__main__'\n",
      " * Debug mode: off\n"
     ]
    },
    {
     "name": "stderr",
     "output_type": "stream",
     "text": [
      "WARNING: This is a development server. Do not use it in a production deployment. Use a production WSGI server instead.\n",
      " * Running on http://127.0.0.1:9001\n",
      "Press CTRL+C to quit\n",
      "127.0.0.1 - - [19/Apr/2024 17:13:01] \"GET / HTTP/1.1\" 200 -\n"
     ]
    }
   ],
   "source": [
    "# setup\n",
    "from flask import Flask, request, render_template\n",
    "import csv\n",
    "\n",
    "app = Flask(__name__) # invoke the Flask class\n",
    "\n",
    "# step 1 - add a route to display the form\n",
    "@app.route('/form')\n",
    "def form():\n",
    "    return render_template('form.html')\n",
    "\n",
    "# step 2 - add a route to do something with the data, and show the user the form worked correctly\n",
    "@app.route('/data', methods=['POST'])\n",
    "def data():\n",
    "    if request.method == 'POST':\n",
    "        form_data = request.form\n",
    "        # Open the CSV file in append mode and write the form data\n",
    "        with open('data.csv', mode='a', newline='') as file:\n",
    "            writer = csv.writer(file)\n",
    "            # Assuming 'name' and 'greeting' are the keys in form_data dictionary\n",
    "            writer.writerow([form_data['name'], form_data['greeting']])\n",
    "        # Redirect or show confirmation to the user\n",
    "        return render_template('data.html', form_data=form_data)\n",
    "\n",
    "# New default home route to display the contents of the CSV file\n",
    "@app.route('/')\n",
    "def show_data():\n",
    "    data_list = []  # Initialize an empty list to store dictionaries\n",
    "    # Open the CSV file in read mode\n",
    "    with open('data.csv', mode='r') as file:\n",
    "        reader = csv.DictReader(file)\n",
    "        for row in reader:\n",
    "            data_list.append(row)\n",
    "    # Pass the list of dictionaries to the template\n",
    "    return render_template('index.html', data_list=data_list)\n",
    "\n",
    "# run the server, test, and see! url is http://127.0.0.1:9001/form\n",
    "if __name__ == '__main__':\n",
    "    app.run(port=9001) # Start the server listening for requests\n"
   ]
  },
  {
   "cell_type": "markdown",
   "id": "786ee7c1",
   "metadata": {},
   "source": [
    "This references a new html template, `index.html`:\n",
    "```html\n",
    "<!DOCTYPE html>\n",
    "<html lang=\"en\">\n",
    "<head>\n",
    "    <meta charset=\"UTF-8\">\n",
    "    <title>Index</title>\n",
    "</head>\n",
    "<body>\n",
    "    <h1>Greetings from people</h1>\n",
    "    <ul>\n",
    "        {% for data in data_list %}\n",
    "        <li>{{ data['name'] }}: {{ data['greeting'] }}</li>\n",
    "        {% endfor %}\n",
    "    </ul>\n",
    "\n",
    "    <!-- and start to anchor your various templates to each other so the user can navigate! -->\n",
    "    <a href=\"/form\">Add a new greeting!</a>\n",
    "</body>\n",
    "</html>\n",
    "\n",
    "```"
   ]
  }
 ],
 "metadata": {
  "kernelspec": {
   "display_name": "pps19anz",
   "language": "python",
   "name": "pps19anz"
  },
  "language_info": {
   "codemirror_mode": {
    "name": "ipython",
    "version": 3
   },
   "file_extension": ".py",
   "mimetype": "text/x-python",
   "name": "python",
   "nbconvert_exporter": "python",
   "pygments_lexer": "ipython3",
   "version": "3.11.7"
  }
 },
 "nbformat": 4,
 "nbformat_minor": 5
}
