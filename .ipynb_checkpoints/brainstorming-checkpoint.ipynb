{
 "cells": [
  {
   "cell_type": "markdown",
   "id": "77971b30",
   "metadata": {},
   "source": [
    "# Break it down\n",
    "1. Decide what kind of data you want the application to manage. Examples include budget items, work request tickets, investment performance, book reviews, and more.\n",
    "2. Create the .csv file with specific columns and a first row or two as \"seed\" data for your application to test while developing.\n",
    "3. Create your index route and template that shows all items in the .csv file on the web page, including links to each individual item's details page.\n",
    "4. Complete the show route that displays the details of each item in the .csv\n",
    "5. Include a create route that allows users to add new data to the file. This should accept a POST request with the new data.\n"
   ]
  },
  {
   "cell_type": "markdown",
   "id": "91f45d2f",
   "metadata": {},
   "source": [
    "## Prelim"
   ]
  },
  {
   "cell_type": "code",
   "execution_count": null,
   "id": "a391f7da",
   "metadata": {},
   "outputs": [],
   "source": [
    "!pip install pandas"
   ]
  },
  {
   "cell_type": "code",
   "execution_count": null,
   "id": "316a9117",
   "metadata": {},
   "outputs": [],
   "source": [
    "# Decide what kind of data you want the application to manage. \n",
    "# Examples include budget items, work request tickets, investment performance, \n",
    "# book reviews, and more.\n",
    "\n",
    "import pandas as pd\n",
    "data = pd.read_csv('./international_football_results.csv')\n",
    "data.head()"
   ]
  },
  {
   "cell_type": "code",
   "execution_count": null,
   "id": "7decd3fa",
   "metadata": {},
   "outputs": [],
   "source": [
    "# Create the .csv file with specific columns and a \n",
    "# first row or two as \"seed\" data for your application to test while developing.\n",
    "\n",
    "data['year'] = pd.to_datetime(data['date']).dt.year\n",
    "data.head()"
   ]
  },
  {
   "cell_type": "code",
   "execution_count": null,
   "id": "e6c75237",
   "metadata": {},
   "outputs": [],
   "source": [
    "data.sample(10).to_csv('seed.csv',index=False)"
   ]
  },
  {
   "cell_type": "code",
   "execution_count": 5,
   "id": "0ce7b58b",
   "metadata": {},
   "outputs": [
    {
     "data": {
      "text/html": [
       "<div>\n",
       "<style scoped>\n",
       "    .dataframe tbody tr th:only-of-type {\n",
       "        vertical-align: middle;\n",
       "    }\n",
       "\n",
       "    .dataframe tbody tr th {\n",
       "        vertical-align: top;\n",
       "    }\n",
       "\n",
       "    .dataframe thead th {\n",
       "        text-align: right;\n",
       "    }\n",
       "</style>\n",
       "<table border=\"1\" class=\"dataframe\">\n",
       "  <thead>\n",
       "    <tr style=\"text-align: right;\">\n",
       "      <th></th>\n",
       "      <th>date</th>\n",
       "      <th>home_team</th>\n",
       "      <th>away_team</th>\n",
       "      <th>home_score</th>\n",
       "      <th>away_score</th>\n",
       "      <th>tournament</th>\n",
       "      <th>city</th>\n",
       "      <th>country</th>\n",
       "      <th>neutral</th>\n",
       "      <th>year</th>\n",
       "    </tr>\n",
       "  </thead>\n",
       "  <tbody>\n",
       "    <tr>\n",
       "      <th>0</th>\n",
       "      <td>2007-11-11</td>\n",
       "      <td>St. Martin</td>\n",
       "      <td>British Virgin Islands</td>\n",
       "      <td>0</td>\n",
       "      <td>1</td>\n",
       "      <td>Friendly</td>\n",
       "      <td>Marigot</td>\n",
       "      <td>St. Martin</td>\n",
       "      <td>False</td>\n",
       "      <td>2007</td>\n",
       "    </tr>\n",
       "    <tr>\n",
       "      <th>1</th>\n",
       "      <td>2005-10-08</td>\n",
       "      <td>Uganda</td>\n",
       "      <td>Burkina Faso</td>\n",
       "      <td>2</td>\n",
       "      <td>2</td>\n",
       "      <td>FIFA World Cup qualification</td>\n",
       "      <td>Kampala</td>\n",
       "      <td>Uganda</td>\n",
       "      <td>False</td>\n",
       "      <td>2005</td>\n",
       "    </tr>\n",
       "    <tr>\n",
       "      <th>2</th>\n",
       "      <td>1976-04-11</td>\n",
       "      <td>Kuwait</td>\n",
       "      <td>Saudi Arabia</td>\n",
       "      <td>3</td>\n",
       "      <td>1</td>\n",
       "      <td>Gulf Cup</td>\n",
       "      <td>Doha</td>\n",
       "      <td>Qatar</td>\n",
       "      <td>True</td>\n",
       "      <td>1976</td>\n",
       "    </tr>\n",
       "    <tr>\n",
       "      <th>3</th>\n",
       "      <td>2003-02-12</td>\n",
       "      <td>Croatia</td>\n",
       "      <td>Poland</td>\n",
       "      <td>0</td>\n",
       "      <td>0</td>\n",
       "      <td>Friendly</td>\n",
       "      <td>Split</td>\n",
       "      <td>Croatia</td>\n",
       "      <td>False</td>\n",
       "      <td>2003</td>\n",
       "    </tr>\n",
       "    <tr>\n",
       "      <th>4</th>\n",
       "      <td>1978-01-26</td>\n",
       "      <td>Sudan</td>\n",
       "      <td>Kenya</td>\n",
       "      <td>3</td>\n",
       "      <td>0</td>\n",
       "      <td>Friendly</td>\n",
       "      <td>Khartoum</td>\n",
       "      <td>Sudan</td>\n",
       "      <td>False</td>\n",
       "      <td>1978</td>\n",
       "    </tr>\n",
       "  </tbody>\n",
       "</table>\n",
       "</div>"
      ],
      "text/plain": [
       "         date   home_team               away_team  home_score  away_score  \\\n",
       "0  2007-11-11  St. Martin  British Virgin Islands           0           1   \n",
       "1  2005-10-08      Uganda            Burkina Faso           2           2   \n",
       "2  1976-04-11      Kuwait            Saudi Arabia           3           1   \n",
       "3  2003-02-12     Croatia                  Poland           0           0   \n",
       "4  1978-01-26       Sudan                   Kenya           3           0   \n",
       "\n",
       "                     tournament      city     country  neutral  year  \n",
       "0                      Friendly   Marigot  St. Martin    False  2007  \n",
       "1  FIFA World Cup qualification   Kampala      Uganda    False  2005  \n",
       "2                      Gulf Cup      Doha       Qatar     True  1976  \n",
       "3                      Friendly     Split     Croatia    False  2003  \n",
       "4                      Friendly  Khartoum       Sudan    False  1978  "
      ]
     },
     "execution_count": 5,
     "metadata": {},
     "output_type": "execute_result"
    }
   ],
   "source": [
    "import pandas as pd\n",
    "seed = pd.read_csv('seed.csv')\n",
    "seed.head()"
   ]
  },
  {
   "cell_type": "code",
   "execution_count": 6,
   "id": "1969301e",
   "metadata": {},
   "outputs": [],
   "source": [
    "seed['key'] = seed['home_team']+seed['away_team']+seed['date']\n",
    "seed.to_csv('seed.csv',index=False)"
   ]
  },
  {
   "cell_type": "markdown",
   "id": "31c05687",
   "metadata": {},
   "source": [
    "## Flask"
   ]
  },
  {
   "cell_type": "code",
   "execution_count": 1,
   "id": "7c2cb464",
   "metadata": {},
   "outputs": [],
   "source": [
    "# Create your index route and template that shows all items in the \n",
    "# .csv file on the web page, including links to each individual \n",
    "# item's details page.\n",
    "\n",
    "# setup\n",
    "from flask import Flask, request, render_template\n",
    "import csv\n",
    "\n",
    "app = Flask(__name__) # invoke the Flask class"
   ]
  },
  {
   "cell_type": "code",
   "execution_count": 2,
   "id": "1b8c4290",
   "metadata": {},
   "outputs": [],
   "source": [
    "# step 1 - index route\n",
    "@app.route('/index')\n",
    "def index():\n",
    "    data_list = []\n",
    "    with open('seed.csv', mode='r') as file: \n",
    "        reader = csv.DictReader(file)\n",
    "        for row in reader:\n",
    "            data_list.append(row)\n",
    "    # Pass the list of dictionaries to the template\n",
    "    return render_template('index.html', data_list=data_list)"
   ]
  },
  {
   "cell_type": "code",
   "execution_count": 4,
   "id": "a4304f3b",
   "metadata": {},
   "outputs": [
    {
     "name": "stdout",
     "output_type": "stream",
     "text": [
      " * Serving Flask app '__main__'\n",
      " * Debug mode: off\n"
     ]
    },
    {
     "name": "stderr",
     "output_type": "stream",
     "text": [
      "WARNING: This is a development server. Do not use it in a production deployment. Use a production WSGI server instead.\n",
      " * Running on http://127.0.0.1:9001\n",
      "Press CTRL+C to quit\n",
      "127.0.0.1 - - [22/Apr/2024 19:06:55] \"GET /index HTTP/1.1\" 200 -\n",
      "127.0.0.1 - - [22/Apr/2024 19:07:00] \"GET /index HTTP/1.1\" 200 -\n"
     ]
    }
   ],
   "source": [
    "# run the server, test, and see! url is http://127.0.0.1:9001/\n",
    "if __name__ == '__main__':\n",
    "    app.run(port=9001) # Start the server listening for requests"
   ]
  },
  {
   "cell_type": "markdown",
   "id": "7c402dfb",
   "metadata": {},
   "source": [
    "```html\n",
    "<!DOCTYPE html>\n",
    "<html lang=\"en\">\n",
    "<head>\n",
    "    <meta charset=\"UTF-8\">\n",
    "    <title>Index</title>\n",
    "</head>\n",
    "<body>\n",
    "    <h1>Soccer Games</h1>\n",
    "    <ul>\n",
    "        {% for data in data_list %}\n",
    "        <li><a href=\"/show/{{data['key']}}\">{{ data['tornament'] }}: {{ data['date'] }}</a></li>\n",
    "        {% endfor %}\n",
    "    </ul>\n",
    "\n",
    "    <a href=\"/form\">Add a new greeting!</a>\n",
    "</body>\n",
    "</html>\n",
    "```\n",
    "Example\n",
    "```python\n",
    "{'date': '2005-10-08',\n",
    "  'home_team': 'Uganda',\n",
    "  'away_team': 'Burkina Faso',\n",
    "  'home_score': '2',\n",
    "  'away_score': '2',\n",
    "  'tournament': 'FIFA World Cup qualification',\n",
    "  'city': 'Kampala',\n",
    "  'country': 'Uganda',\n",
    "  'neutral': 'False',\n",
    "  'year': '2005'},\n",
    "```"
   ]
  }
 ],
 "metadata": {
  "kernelspec": {
   "display_name": "pps19anz",
   "language": "python",
   "name": "pps19anz"
  },
  "language_info": {
   "codemirror_mode": {
    "name": "ipython",
    "version": 3
   },
   "file_extension": ".py",
   "mimetype": "text/x-python",
   "name": "python",
   "nbconvert_exporter": "python",
   "pygments_lexer": "ipython3",
   "version": "3.11.7"
  }
 },
 "nbformat": 4,
 "nbformat_minor": 5
}
