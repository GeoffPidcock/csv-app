{
 "cells": [
  {
   "cell_type": "markdown",
   "id": "fa25c0e6",
   "metadata": {},
   "source": [
    "# Break it down\n",
    "1. Decide what kind of data you want the application to manage. Examples include budget items, work request tickets, investment performance, book reviews, and more.\n",
    "2. Create the .csv file with specific columns and a first row or two as \"seed\" data for your application to test while developing.\n",
    "3. Create your index route and template that shows all items in the .csv file on the web page, including links to each individual item's details page.\n",
    "4. Complete the show route that displays the details of each item in the .csv\n",
    "5. Include a create route that allows users to add new data to the file. This should accept a POST request with the new data.\n"
   ]
  },
  {
   "cell_type": "markdown",
   "id": "efcfb749",
   "metadata": {},
   "source": [
    "## Prelim"
   ]
  },
  {
   "cell_type": "code",
   "execution_count": null,
   "id": "8a087303",
   "metadata": {},
   "outputs": [],
   "source": [
    "# Decide what kind of data you want the application to manage. \n",
    "# Examples include budget items, work request tickets, investment performance, \n",
    "# book reviews, and more.\n",
    "\n",
    "import pandas as pd\n",
    "data = pd.read_csv('./international_football_results.csv')\n",
    "data.head()"
   ]
  },
  {
   "cell_type": "code",
   "execution_count": null,
   "id": "bb7d8d6e",
   "metadata": {},
   "outputs": [],
   "source": [
    "# Create the .csv file with specific columns and a \n",
    "# first row or two as \"seed\" data for your application to test while developing.\n",
    "\n",
    "data['year'] = pd.to_datetime(data['date']).dt.year\n",
    "data.head()"
   ]
  },
  {
   "cell_type": "code",
   "execution_count": null,
   "id": "c4240407",
   "metadata": {},
   "outputs": [],
   "source": [
    "data.sample(10).to_csv('seed.csv',index=False)"
   ]
  },
  {
   "cell_type": "code",
   "execution_count": null,
   "id": "e63be7ca",
   "metadata": {},
   "outputs": [],
   "source": [
    "import pandas as pd\n",
    "seed = pd.read_csv('seed.csv')\n",
    "seed.head()"
   ]
  },
  {
   "cell_type": "code",
   "execution_count": null,
   "id": "b699a282",
   "metadata": {},
   "outputs": [],
   "source": [
    "seed['key'] = seed['home_team']+seed['away_team']+seed['date']\n",
    "seed.to_csv('seed.csv',index=False)"
   ]
  },
  {
   "cell_type": "markdown",
   "id": "242da7fd",
   "metadata": {},
   "source": [
    "## Flask"
   ]
  },
  {
   "cell_type": "code",
   "execution_count": 1,
   "id": "7a40667a",
   "metadata": {},
   "outputs": [],
   "source": [
    "# Create your index route and template that shows all items in the \n",
    "# .csv file on the web page, including links to each individual \n",
    "# item's details page.\n",
    "\n",
    "# setup\n",
    "from flask import Flask, request, render_template\n",
    "import csv\n",
    "\n",
    "app = Flask(__name__) # invoke the Flask class"
   ]
  },
  {
   "cell_type": "code",
   "execution_count": 2,
   "id": "27a1f5de",
   "metadata": {},
   "outputs": [],
   "source": [
    "# step 1 - index route\n",
    "@app.route('/index')\n",
    "def index():\n",
    "    data_list = []\n",
    "    with open('seed.csv', mode='r') as file: \n",
    "        reader = csv.DictReader(file)\n",
    "        for row in reader:\n",
    "            data_list.append(row)\n",
    "    # Pass the list of dictionaries to the template\n",
    "    return render_template('index.html', data_list=data_list)"
   ]
  },
  {
   "cell_type": "code",
   "execution_count": 3,
   "id": "f05bd049",
   "metadata": {},
   "outputs": [],
   "source": [
    "# step 2 - show route\n",
    "@app.route('/show/<key>')\n",
    "def show(key):\n",
    "    data_list = []\n",
    "    with open('seed.csv', mode='r') as file: \n",
    "        reader = csv.DictReader(file)\n",
    "        for row in reader:\n",
    "            data_list.append(row)\n",
    "    for data in data_list:\n",
    "        if data['key'] == key:\n",
    "            print('True')\n",
    "            date = data['date']\n",
    "            home_team = data['home_team']\n",
    "            \n",
    "    return render_template('show.html', date = date, home_team = home_team)"
   ]
  },
  {
   "cell_type": "code",
   "execution_count": 4,
   "id": "e44f6295",
   "metadata": {},
   "outputs": [],
   "source": [
    "# step 3 - data post route\n",
    "@app.route('/data')\n",
    "def data():\n",
    "    \"\"\"Designed for accepting posts as an API request\"\"\"\n",
    "    if request.method == 'POST':\n",
    "        form_data = request.form\n",
    "        # Open the CSV file in append mode and write the form data\n",
    "        with open('seed.csv', mode='a', newline='') as file:\n",
    "            writer = csv.writer(file)\n",
    "            # Assuming 'name' and 'greeting' are the keys in form_data dictionary\n",
    "             \n",
    "            writer.writerow([\n",
    "                form_data['date'], \n",
    "                form_data['home_team'],\n",
    "                form_data['away_team'],\n",
    "                form_data['home_score'],\n",
    "                form_data['away_score'],\n",
    "                form_data['tournament'],\n",
    "                form_data['city'],\n",
    "                form_data['country'],\n",
    "                form_data['neutral'],\n",
    "                form_data['year'],\n",
    "                form_data['home_team']+form_data['away_team']+form_data['date'],\n",
    "            ])\n",
    "        # Redirect or show confirmation to the user\n",
    "        return {'status_code':'200'}"
   ]
  },
  {
   "cell_type": "code",
   "execution_count": null,
   "id": "d70bb441",
   "metadata": {},
   "outputs": [],
   "source": [
    "# run the server, test, and see! url is http://127.0.0.1:9001/\n",
    "if __name__ == '__main__':\n",
    "    app.run(port=9001) # Start the server listening for requests"
   ]
  },
  {
   "cell_type": "markdown",
   "id": "7a798177",
   "metadata": {},
   "source": [
    "```html\n",
    "<!DOCTYPE html>\n",
    "<html lang=\"en\">\n",
    "<head>\n",
    "    <meta charset=\"UTF-8\">\n",
    "    <title>Index</title>\n",
    "</head>\n",
    "<body>\n",
    "    <h1>Soccer Games</h1>\n",
    "    <ul>\n",
    "        {% for data in data_list %}\n",
    "        <li><a href=\"/show/{{data['key']}}\">{{ data['tornament'] }}: {{ data['date'] }}</a></li>\n",
    "        {% endfor %}\n",
    "    </ul>\n",
    "\n",
    "    <a href=\"/form\">Add a new greeting!</a>\n",
    "</body>\n",
    "</html>\n",
    "```\n",
    "Example\n",
    "```python\n",
    "{'date': '2005-10-08',\n",
    "  'home_team': 'Uganda',\n",
    "  'away_team': 'Burkina Faso',\n",
    "  'home_score': '2',\n",
    "  'away_score': '2',\n",
    "  'tournament': 'FIFA World Cup qualification',\n",
    "  'city': 'Kampala',\n",
    "  'country': 'Uganda',\n",
    "  'neutral': 'False',\n",
    "  'year': '2005'},\n",
    "```"
   ]
  }
 ],
 "metadata": {
  "kernelspec": {
   "display_name": "pps19anz",
   "language": "python",
   "name": "pps19anz"
  },
  "language_info": {
   "codemirror_mode": {
    "name": "ipython",
    "version": 3
   },
   "file_extension": ".py",
   "mimetype": "text/x-python",
   "name": "python",
   "nbconvert_exporter": "python",
   "pygments_lexer": "ipython3",
   "version": "3.11.7"
  }
 },
 "nbformat": 4,
 "nbformat_minor": 5
}
