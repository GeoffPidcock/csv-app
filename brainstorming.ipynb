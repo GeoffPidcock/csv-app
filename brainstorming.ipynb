{
 "cells": [
  {
   "cell_type": "markdown",
   "id": "0f64ad7b",
   "metadata": {},
   "source": [
    "# Break it down\n",
    "1. Decide what kind of data you want the application to manage. Examples include budget items, work request tickets, investment performance, book reviews, and more.\n",
    "2. Create the .csv file with specific columns and a first row or two as \"seed\" data for your application to test while developing.\n",
    "3. Create your index route and template that shows all items in the .csv file on the web page, including links to each individual item's details page.\n",
    "4. Complete the show route that displays the details of each item in the .csv\n",
    "5. Include a create route that allows users to add new data to the file. This should accept a POST request with the new data.\n"
   ]
  },
  {
   "cell_type": "markdown",
   "id": "b12b5e54",
   "metadata": {},
   "source": [
    "## Prelim"
   ]
  },
  {
   "cell_type": "code",
   "execution_count": null,
   "id": "157104d9",
   "metadata": {},
   "outputs": [],
   "source": [
    "!pip install pandas"
   ]
  },
  {
   "cell_type": "code",
   "execution_count": null,
   "id": "e2fc2655",
   "metadata": {},
   "outputs": [],
   "source": [
    "# Decide what kind of data you want the application to manage. \n",
    "# Examples include budget items, work request tickets, investment performance, \n",
    "# book reviews, and more.\n",
    "\n",
    "import pandas as pd\n",
    "data = pd.read_csv('./international_football_results.csv')\n",
    "data.head()"
   ]
  },
  {
   "cell_type": "code",
   "execution_count": null,
   "id": "b4f2672d",
   "metadata": {},
   "outputs": [],
   "source": [
    "# Create the .csv file with specific columns and a \n",
    "# first row or two as \"seed\" data for your application to test while developing.\n",
    "\n",
    "data['year'] = pd.to_datetime(data['date']).dt.year\n",
    "data.head()"
   ]
  },
  {
   "cell_type": "code",
   "execution_count": null,
   "id": "03638239",
   "metadata": {},
   "outputs": [],
   "source": [
    "data.sample(10).to_csv('seed.csv',index=False)"
   ]
  },
  {
   "cell_type": "markdown",
   "id": "49fb3b7f",
   "metadata": {},
   "source": [
    "## Flask"
   ]
  },
  {
   "cell_type": "code",
   "execution_count": 1,
   "id": "51c8b459",
   "metadata": {},
   "outputs": [],
   "source": [
    "# Create your index route and template that shows all items in the \n",
    "# .csv file on the web page, including links to each individual \n",
    "# item's details page.\n",
    "\n",
    "# setup\n",
    "from flask import Flask, request, render_template\n",
    "import csv\n",
    "\n",
    "app = Flask(__name__) # invoke the Flask class"
   ]
  },
  {
   "cell_type": "code",
   "execution_count": 2,
   "id": "e3c18592",
   "metadata": {},
   "outputs": [],
   "source": [
    "# step 1 - index route\n",
    "@app.route('/index')\n",
    "def index():\n",
    "    data_list = []\n",
    "    with open('seed.csv', mode='r') as file: \n",
    "        reader = csv.DictReader(file)\n",
    "        for row in reader:\n",
    "            data_list.append(row)\n",
    "    # Pass the list of dictionaries to the template\n",
    "    return render_template('index.html', data_list=data_list)"
   ]
  },
  {
   "cell_type": "code",
   "execution_count": null,
   "id": "25d800a4",
   "metadata": {},
   "outputs": [
    {
     "name": "stdout",
     "output_type": "stream",
     "text": [
      " * Serving Flask app '__main__'\n",
      " * Debug mode: off\n"
     ]
    },
    {
     "name": "stderr",
     "output_type": "stream",
     "text": [
      "WARNING: This is a development server. Do not use it in a production deployment. Use a production WSGI server instead.\n",
      " * Running on http://127.0.0.1:9001\n",
      "Press CTRL+C to quit\n",
      "127.0.0.1 - - [22/Apr/2024 19:06:55] \"GET /index HTTP/1.1\" 200 -\n",
      "127.0.0.1 - - [22/Apr/2024 19:07:00] \"GET /index HTTP/1.1\" 200 -\n"
     ]
    }
   ],
   "source": [
    "# run the server, test, and see! url is http://127.0.0.1:9001/\n",
    "if __name__ == '__main__':\n",
    "    app.run(port=9001) # Start the server listening for requests"
   ]
  },
  {
   "cell_type": "markdown",
   "id": "8b296cb3",
   "metadata": {},
   "source": [
    "```html\n",
    "<!DOCTYPE html>\n",
    "<html lang=\"en\">\n",
    "<head>\n",
    "    <meta charset=\"UTF-8\">\n",
    "    <title>Index</title>\n",
    "</head>\n",
    "<body>\n",
    "    <h1>Soccer Games</h1>\n",
    "    <ul>\n",
    "        {% for data in data_list %}\n",
    "        <li>{{ data['tornament'] }}: {{ data['date'] }}</li>\n",
    "        {% endfor %}\n",
    "    </ul>\n",
    "\n",
    "    <a href=\"/form\">Add a new greeting!</a>\n",
    "</body>\n",
    "</html>\n",
    "```\n",
    "Example\n",
    "```python\n",
    "{'date': '2005-10-08',\n",
    "  'home_team': 'Uganda',\n",
    "  'away_team': 'Burkina Faso',\n",
    "  'home_score': '2',\n",
    "  'away_score': '2',\n",
    "  'tournament': 'FIFA World Cup qualification',\n",
    "  'city': 'Kampala',\n",
    "  'country': 'Uganda',\n",
    "  'neutral': 'False',\n",
    "  'year': '2005'},\n",
    "```"
   ]
  }
 ],
 "metadata": {
  "kernelspec": {
   "display_name": "pps19anz",
   "language": "python",
   "name": "pps19anz"
  },
  "language_info": {
   "codemirror_mode": {
    "name": "ipython",
    "version": 3
   },
   "file_extension": ".py",
   "mimetype": "text/x-python",
   "name": "python",
   "nbconvert_exporter": "python",
   "pygments_lexer": "ipython3",
   "version": "3.11.7"
  }
 },
 "nbformat": 4,
 "nbformat_minor": 5
}
